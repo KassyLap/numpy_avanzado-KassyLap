{
 "cells": [
  {
   "cell_type": "markdown",
   "metadata": {},
   "source": [
    "# Numpy\n",
    "## Ejercicios prácticos\n",
    "\n",
    "---\n",
    "### Utiliza Python y Numpy para realizar las siguientes operaciones:\n",
    "1. Dado el arreglo `a = np.array([1, 2, 3, 4])`, determina si ninguno de los elementos es cero.\n",
    "2. Dado el arreglo `a = np.array([0, 0, 2, 0])`, determina si contiene algún elemento que no sea cero.\n",
    "3. Analiza el arreglo `a = np.array([1, 2, np.nan, np.inf])` y determina si contiene valores que sean infinitos o valores no numéricos (NaN).\n",
    "4. Dado el arreglo `a = np.array([1, 2, np.inf])`, determina si contiene valores infinitos.\n",
    "5. Dado el arreglo `a = np.array([1, np.nan, 3])`, determina si contiene valores NaN.\n",
    "6. Dados los arreglos `a = np.array([1, 3, 5])` y `b = np.array([2, 3, 4])`, realiza una comparación elemento a elemento contemplando mayor, mayor o igual, menor y menor o igual.\n",
    "7. Crea un arreglo que contenga los valores 1, 7, 13 y 105, y determina la cantidad de memoria que ocupa el arreglo.\n",
    "8. Crea un arreglo de 10 ceros; uno de 10 unos; y uno de 10 cincos.\n",
    "9. Crea un arreglo que contenga todos los números enteros entre 30 y 70.\n",
    "10. Crea un arreglo que contenga los números pares entre 30 y 70.\n",
    "11. Crea una matriz identidad de 3x3.\n",
    "12. Genera un número aleatorio entre 0 y 1.\n",
    "13. Crea un arreglo de 15 números aleatorios tomados de una distribución normal estándar.\n",
    "14. Crea un arreglo con valores entre 15 y 55, e imprime todos los valores excepto el primero y el último.\n",
    "15. Crea un vector (arreglo) de longitud 10 con valores equitativamente distribuidos entre 5 y 50.\n",
    "16. Crea un vector con valores de 0 a 20, y cambia el signo de los números de 9 a 15.\n",
    "17. Convierte el arreglo `a = np.array([1, 2, 3])` a una lista de Python.\n",
    "18. Convierte la lista `l = [1, 2, 3]` a un arreglo de Numpy.\n",
    "19. Dada la matriz `m = np.array([[1, 2], [3, 4]])`, verifica qué números son pares y almacena los resultados en otra matriz.\n",
    "20. Dado el arreglo `m = np.array([[1, 2, 3], [4, 5, 6]])`, encuentra el número de filas y columnas de la matriz."
   ]
  },
  {
   "cell_type": "code",
   "execution_count": 3,
   "metadata": {},
   "outputs": [],
   "source": [
    "import numpy as np"
   ]
  },
  {
   "cell_type": "code",
   "execution_count": null,
   "metadata": {},
   "outputs": [
    {
     "data": {
      "text/plain": [
       "np.True_"
      ]
     },
     "execution_count": 5,
     "metadata": {},
     "output_type": "execute_result"
    }
   ],
   "source": [
    "# ejercicio 1\n",
    "a1 = np.array([1, 2, 3, 4])\n",
    "\n",
    "arr0 =np.all(a1 != 0)\n",
    "\n",
    "arr0"
   ]
  },
  {
   "cell_type": "code",
   "execution_count": 6,
   "metadata": {},
   "outputs": [
    {
     "data": {
      "text/plain": [
       "np.True_"
      ]
     },
     "execution_count": 6,
     "metadata": {},
     "output_type": "execute_result"
    }
   ],
   "source": [
    "# ejercicio 2\n",
    "\n",
    "a2 = np.array([0, 0, 2, 0])\n",
    "\n",
    "arrNot0 = np.any(a2 != 0)\n",
    "\n",
    "arrNot0\n",
    "\n"
   ]
  },
  {
   "cell_type": "code",
   "execution_count": 7,
   "metadata": {},
   "outputs": [
    {
     "data": {
      "text/plain": [
       "array([False, False,  True,  True])"
      ]
     },
     "execution_count": 7,
     "metadata": {},
     "output_type": "execute_result"
    }
   ],
   "source": [
    "# ejercicio 3\n",
    "\n",
    "a3 = np.array([1, 2, np.nan, np.inf])\n",
    "\n",
    "valoresFaltentes = np.isnan(a3) | np.isinf(a3)\n",
    "valoresFaltentes"
   ]
  },
  {
   "cell_type": "code",
   "execution_count": 8,
   "metadata": {},
   "outputs": [
    {
     "data": {
      "text/plain": [
       "array([False, False,  True])"
      ]
     },
     "execution_count": 8,
     "metadata": {},
     "output_type": "execute_result"
    }
   ],
   "source": [
    "# ejercicio 4\n",
    "\n",
    "a4 = np.array([1, 2, np.inf])\n",
    "\n",
    "valoresInf = np.isinf(a4)\n",
    "valoresInf"
   ]
  },
  {
   "cell_type": "code",
   "execution_count": 9,
   "metadata": {},
   "outputs": [
    {
     "data": {
      "text/plain": [
       "array([False,  True, False])"
      ]
     },
     "execution_count": 9,
     "metadata": {},
     "output_type": "execute_result"
    }
   ],
   "source": [
    "# ejercicio 5\n",
    "\n",
    "a5 = np.array([1, np.nan, 3])\n",
    "\n",
    "valoresFalt = np.isnan(a5)\n",
    "valoresFalt"
   ]
  },
  {
   "cell_type": "code",
   "execution_count": 11,
   "metadata": {},
   "outputs": [
    {
     "name": "stdout",
     "output_type": "stream",
     "text": [
      "a > b : [False False  True]\n",
      "a >= b: [False  True  True]\n",
      "a < b : [ True False False]\n",
      "a <= b: [ True  True False]\n"
     ]
    }
   ],
   "source": [
    "# ejercicio 6\n",
    "\n",
    "a6 = np.array([1, 3, 5])\n",
    "b6 = np.array([2, 3, 4])\n",
    "\n",
    "print(\"a > b :\", a6 > b6)\n",
    "print(\"a >= b:\", a6 >= b6)\n",
    "print(\"a < b :\", a6 < b6)\n",
    "print(\"a <= b:\", a6 <= b6)"
   ]
  },
  {
   "cell_type": "code",
   "execution_count": 12,
   "metadata": {},
   "outputs": [
    {
     "data": {
      "text/plain": [
       "32"
      ]
     },
     "execution_count": 12,
     "metadata": {},
     "output_type": "execute_result"
    }
   ],
   "source": [
    "# ejercicio 7\n",
    "\n",
    "# 7. Crea un arreglo que contenga los valores 1, 7, 13 y 105, y determina la cantidad de memoria que ocupa el arreglo.\n",
    "\n",
    "a7 = np.array([1, 7, 13, 105])\n",
    "\n",
    "a7_memoria = a7.nbytes\n",
    "a7_memoria"
   ]
  },
  {
   "cell_type": "code",
   "execution_count": 29,
   "metadata": {},
   "outputs": [
    {
     "data": {
      "text/plain": [
       "(array([0., 0., 0., 0., 0., 0., 0., 0., 0., 0.]),\n",
       " array([1., 1., 1., 1., 1., 1., 1., 1., 1., 1.]),\n",
       " array([5, 5, 5, 5, 5, 5, 5, 5, 5, 5]))"
      ]
     },
     "execution_count": 29,
     "metadata": {},
     "output_type": "execute_result"
    }
   ],
   "source": [
    "# ejercicio 8\n",
    "\n",
    "# 8. Crea un arreglo de 10 ceros; uno de 10 unos; y uno de 10 cincos.\n",
    "\n",
    "a8_ceros = np.zeros(10)\n",
    "a8_unos = np.ones(10)\n",
    "a8_cincos = np.full(10, 5)\n",
    "\n",
    "a8_ceros, a8_unos, a8_cincos\n"
   ]
  },
  {
   "cell_type": "code",
   "execution_count": 30,
   "metadata": {},
   "outputs": [
    {
     "data": {
      "text/plain": [
       "array([30, 31, 32, 33, 34, 35, 36, 37, 38, 39, 40, 41, 42, 43, 44, 45, 46,\n",
       "       47, 48, 49, 50, 51, 52, 53, 54, 55, 56, 57, 58, 59, 60, 61, 62, 63,\n",
       "       64, 65, 66, 67, 68, 69, 70])"
      ]
     },
     "execution_count": 30,
     "metadata": {},
     "output_type": "execute_result"
    }
   ],
   "source": [
    "# ejercicio 9\n",
    "\n",
    "# 9. Crea un arreglo que contenga todos los números enteros entre 30 y 70.\n",
    "\n",
    "a9 = np.arange(30, 71)\n",
    "a9"
   ]
  },
  {
   "cell_type": "code",
   "execution_count": 31,
   "metadata": {},
   "outputs": [
    {
     "data": {
      "text/plain": [
       "array([30, 32, 34, 36, 38, 40, 42, 44, 46, 48, 50, 52, 54, 56, 58, 60, 62,\n",
       "       64, 66, 68, 70])"
      ]
     },
     "execution_count": 31,
     "metadata": {},
     "output_type": "execute_result"
    }
   ],
   "source": [
    "\n",
    "# ejercicio 10\n",
    "\n",
    "# 10. Crea un arreglo que contenga los números pares entre 30 y 70.\n",
    "\n",
    "a10 = np.arange(30, 71, 2)\n",
    "a10"
   ]
  },
  {
   "cell_type": "code",
   "execution_count": 32,
   "metadata": {},
   "outputs": [
    {
     "data": {
      "text/plain": [
       "array([[1., 0., 0.],\n",
       "       [0., 1., 0.],\n",
       "       [0., 0., 1.]])"
      ]
     },
     "execution_count": 32,
     "metadata": {},
     "output_type": "execute_result"
    }
   ],
   "source": [
    "\n",
    "# ejercicio 11\n",
    "\n",
    "# 11. Crea una matriz identidad de 3x3.\n",
    "\n",
    "a11 = np.eye(3)\n",
    "a11"
   ]
  },
  {
   "cell_type": "code",
   "execution_count": 34,
   "metadata": {},
   "outputs": [
    {
     "data": {
      "text/plain": [
       "0.6872207193189482"
      ]
     },
     "execution_count": 34,
     "metadata": {},
     "output_type": "execute_result"
    }
   ],
   "source": [
    "\n",
    "# ejercicio 12\n",
    "\n",
    "# 12. Genera un número aleatorio entre 0 y 1.\n",
    "\n",
    "a12 = np.random.rand()\n",
    "a12\n"
   ]
  },
  {
   "cell_type": "code",
   "execution_count": 35,
   "metadata": {},
   "outputs": [
    {
     "data": {
      "text/plain": [
       "array([ 1.24590849, -0.70812646, -0.11422659, -2.2172938 ,  0.00532937,\n",
       "        0.04975098, -1.08028664,  1.8378461 , -1.45013496, -0.11262265,\n",
       "        0.2109711 ,  0.47272942, -0.12177821, -1.58217838, -2.57635158])"
      ]
     },
     "execution_count": 35,
     "metadata": {},
     "output_type": "execute_result"
    }
   ],
   "source": [
    "\n",
    "# ejercicio 13\n",
    "\n",
    "# 13. Crea un arreglo de 15 números aleatorios tomados de una distribución normal estándar.\n",
    "\n",
    "a13 = np.random.randn(15)\n",
    "a13\n",
    "\n"
   ]
  },
  {
   "cell_type": "code",
   "execution_count": 36,
   "metadata": {},
   "outputs": [
    {
     "data": {
      "text/plain": [
       "array([16, 17, 18, 19, 20, 21, 22, 23, 24, 25, 26, 27, 28, 29, 30, 31, 32,\n",
       "       33, 34, 35, 36, 37, 38, 39, 40, 41, 42, 43, 44, 45, 46, 47, 48, 49,\n",
       "       50, 51, 52, 53, 54])"
      ]
     },
     "execution_count": 36,
     "metadata": {},
     "output_type": "execute_result"
    }
   ],
   "source": [
    "\n",
    "# ejercicio 14\n",
    "\n",
    "# 14. Crea un arreglo con valores entre 15 y 55, e imprime todos los valores excepto el primero y el último.\n",
    "\n",
    "a14 = np.arange(15, 56)\n",
    "a14[1:-1]\n"
   ]
  },
  {
   "cell_type": "code",
   "execution_count": 37,
   "metadata": {},
   "outputs": [
    {
     "data": {
      "text/plain": [
       "array([ 5., 10., 15., 20., 25., 30., 35., 40., 45., 50.])"
      ]
     },
     "execution_count": 37,
     "metadata": {},
     "output_type": "execute_result"
    }
   ],
   "source": [
    "\n",
    "# ejercicio 15\n",
    "\n",
    "# 15. Crea un vector (arreglo) de longitud 10 con valores equitativamente distribuidos entre 5 y 50.\n",
    "\n",
    "a15 = np.linspace(5, 50, 10)\n",
    "a15\n",
    "\n"
   ]
  },
  {
   "cell_type": "code",
   "execution_count": 40,
   "metadata": {},
   "outputs": [
    {
     "data": {
      "text/plain": [
       "array([  0,   1,   2,   3,   4,   5,   6,   7,   8,  -9, -10, -11, -12,\n",
       "       -13, -14, -15,  16,  17,  18,  19,  20])"
      ]
     },
     "execution_count": 40,
     "metadata": {},
     "output_type": "execute_result"
    }
   ],
   "source": [
    "\n",
    "# ejercicio 16\n",
    "\n",
    "# 16. Crea un vector con valores de 0 a 20, y cambia el signo de los números de 9 a 15.\n",
    "\n",
    "a16 = np.arange(0, 21)\n",
    "a16[9:16] = -a16[9:16]\n",
    "\n",
    "a16\n",
    "\n"
   ]
  },
  {
   "cell_type": "code",
   "execution_count": 42,
   "metadata": {},
   "outputs": [
    {
     "data": {
      "text/plain": [
       "[1, 2, 3]"
      ]
     },
     "execution_count": 42,
     "metadata": {},
     "output_type": "execute_result"
    }
   ],
   "source": [
    "\n",
    "# ejercicio 17\n",
    "\n",
    "# 17. Convierte el arreglo `a = np.array([1, 2, 3])` a una lista de Python.\n",
    "\n",
    "\n",
    "a17 = np.array([1, 2, 3])\n",
    "a17.tolist()\n",
    "\n"
   ]
  },
  {
   "cell_type": "code",
   "execution_count": 44,
   "metadata": {},
   "outputs": [
    {
     "data": {
      "text/plain": [
       "array([1, 2, 3], dtype=object)"
      ]
     },
     "execution_count": 44,
     "metadata": {},
     "output_type": "execute_result"
    }
   ],
   "source": [
    "\n",
    "# ejercicio 18\n",
    "\n",
    "# 18. Convierte la lista `l = [1, 2, 3]` a un arreglo de Numpy.\n",
    "\n",
    "a18 = [1, 2, 3]\n",
    "\n",
    "a18_array = np.array(a18)\n",
    "\n",
    "a18_array.astype(np.ndarray)\n",
    "\n"
   ]
  },
  {
   "cell_type": "code",
   "execution_count": 45,
   "metadata": {},
   "outputs": [
    {
     "data": {
      "text/plain": [
       "array([[False,  True],\n",
       "       [False,  True]])"
      ]
     },
     "execution_count": 45,
     "metadata": {},
     "output_type": "execute_result"
    }
   ],
   "source": [
    "\n",
    "# ejercicio 19\n",
    "\n",
    "# 19. Dada la matriz `m = np.array([[1, 2], [3, 4]])`, verifica qué números son pares y almacena los resultados en otra matriz.\n",
    "\n",
    "\n",
    "m = np.array([[1, 2], [3, 4]])\n",
    "pares = (m % 2 == 0)\n",
    "pares\n",
    "\n",
    "\n",
    "\n"
   ]
  },
  {
   "cell_type": "code",
   "execution_count": 46,
   "metadata": {},
   "outputs": [
    {
     "data": {
      "text/plain": [
       "(2, 3)"
      ]
     },
     "execution_count": 46,
     "metadata": {},
     "output_type": "execute_result"
    }
   ],
   "source": [
    "\n",
    "# ejercicio 20\n",
    "\n",
    "# 20. Dado el arreglo `m = np.array([[1, 2, 3], [4, 5, 6]])`, encuentra el número de filas y columnas de la matriz.\n",
    "\n",
    "m = np.array([[1, 2, 3], [4, 5, 6]])\n",
    "\n",
    "m.shape\n",
    "\n",
    "\n"
   ]
  }
 ],
 "metadata": {
  "kernelspec": {
   "display_name": "Python 3 (ipykernel)",
   "language": "python",
   "name": "python3"
  },
  "language_info": {
   "codemirror_mode": {
    "name": "ipython",
    "version": 3
   },
   "file_extension": ".py",
   "mimetype": "text/x-python",
   "name": "python",
   "nbconvert_exporter": "python",
   "pygments_lexer": "ipython3",
   "version": "3.13.7"
  }
 },
 "nbformat": 4,
 "nbformat_minor": 4
}
